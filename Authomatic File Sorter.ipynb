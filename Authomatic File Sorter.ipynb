{
 "cells": [
  {
   "cell_type": "code",
   "execution_count": null,
   "id": "771a6aa1",
   "metadata": {},
   "outputs": [],
   "source": [
    "import os, shutil"
   ]
  },
  {
   "cell_type": "code",
   "execution_count": null,
   "id": "b483da31",
   "metadata": {},
   "outputs": [],
   "source": [
    "path = r\"filepath\" #Replace with your filepath"
   ]
  },
  {
   "cell_type": "code",
   "execution_count": null,
   "id": "13efb02c",
   "metadata": {},
   "outputs": [],
   "source": [
    "files = os.listdir(path) #Will show all the files on your filepath (os.listdir(path())"
   ]
  },
  {
   "cell_type": "code",
   "execution_count": null,
   "id": "54ff2287",
   "metadata": {},
   "outputs": [],
   "source": [
    "folder_names = ['csv files', 'image files', 'text files']\n",
    "\n",
    "for i in range (0,3):\n",
    "    if not os.path.exists(path + folder_names[i]):\n",
    "        os.makedirs((path + folder_names[i]))"
   ]
  },
  {
   "cell_type": "code",
   "execution_count": null,
   "id": "68b892e8",
   "metadata": {},
   "outputs": [],
   "source": [
    "for file in files:\n",
    "    if file.endswith('.csv') and not os.path.exists(os.path.join(path, 'csv files', file)):\n",
    "        shutil.move(os.path.join(path, file), os.path.join(path, 'csv files', file))\n",
    "    elif file.lower().endswith(('.img', '.png', '.jpg', '.jpeg')) and not os.path.exists(os.path.join(path, 'image files', file)):\n",
    "        shutil.move(os.path.join(path, file), os.path.join(path, 'image files', file))\n",
    "    elif file.lower().endswith(('.txt', '.pdf', '.doc')) and not os.path.exists(os.path.join(path, 'text files', file)):\n",
    "        shutil.move(os.path.join(path, file), os.path.join(path, 'text files', file)))\n",
    "    else:\n",
    "        print(\"All the files that could be organized are already on their place!\")"
   ]
  },
  {
   "cell_type": "code",
   "execution_count": null,
   "id": "c76a41ed",
   "metadata": {},
   "outputs": [],
   "source": []
  }
 ],
 "metadata": {
  "kernelspec": {
   "display_name": "Python 3 (ipykernel)",
   "language": "python",
   "name": "python3"
  },
  "language_info": {
   "codemirror_mode": {
    "name": "ipython",
    "version": 3
   },
   "file_extension": ".py",
   "mimetype": "text/x-python",
   "name": "python",
   "nbconvert_exporter": "python",
   "pygments_lexer": "ipython3",
   "version": "3.11.5"
  }
 },
 "nbformat": 4,
 "nbformat_minor": 5
}
